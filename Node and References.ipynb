{
 "cells": [
  {
   "cell_type": "markdown",
   "metadata": {},
   "source": [
    "# Nodes And References"
   ]
  },
  {
   "cell_type": "code",
   "execution_count": 7,
   "metadata": {},
   "outputs": [],
   "source": [
    "class binaryTree(object):\n",
    "    \n",
    "    def __init__(self, root):\n",
    "        self.key = root\n",
    "        self.left = None\n",
    "        self.right = None\n",
    "        \n",
    "    def insertLeft(self, value):\n",
    "        if self.left == None:\n",
    "            self.left = binaryTree(value)\n",
    "        \n",
    "        else:\n",
    "            t = binaryTree(value)\n",
    "            t.left = self.left\n",
    "            self.left = t\n",
    "    \n",
    "    def insertRight(self, value):\n",
    "        if self.left == None:\n",
    "            self.left = binaryTree(value)\n",
    "        \n",
    "        else:\n",
    "            t = binaryTree(value)\n",
    "            t.left = self.left\n",
    "            self.left = t\n",
    "    \n",
    "    def getLeft(self):\n",
    "        return self.left\n",
    "    \n",
    "    def getRight(self):\n",
    "        return self.right\n",
    "    \n",
    "    def getRoot(self):\n",
    "        return self.key\n",
    "    \n",
    "    def setRight(self,value):\n",
    "        self.key = value\n",
    "    \n",
    "    "
   ]
  },
  {
   "cell_type": "code",
   "execution_count": 8,
   "metadata": {},
   "outputs": [],
   "source": [
    "b = binaryTree('a')"
   ]
  },
  {
   "cell_type": "code",
   "execution_count": 9,
   "metadata": {},
   "outputs": [],
   "source": [
    "b.insertLeft('b')"
   ]
  },
  {
   "cell_type": "code",
   "execution_count": 10,
   "metadata": {},
   "outputs": [],
   "source": [
    "b.insertRight('c')"
   ]
  },
  {
   "cell_type": "code",
   "execution_count": 11,
   "metadata": {},
   "outputs": [
    {
     "data": {
      "text/plain": [
       "<__main__.binaryTree at 0x18c2c16f188>"
      ]
     },
     "execution_count": 11,
     "metadata": {},
     "output_type": "execute_result"
    }
   ],
   "source": [
    "b.getLeft()"
   ]
  },
  {
   "cell_type": "code",
   "execution_count": 15,
   "metadata": {},
   "outputs": [
    {
     "data": {
      "text/plain": [
       "'c'"
      ]
     },
     "execution_count": 15,
     "metadata": {},
     "output_type": "execute_result"
    }
   ],
   "source": [
    "b.getLeft().getRoot()"
   ]
  },
  {
   "cell_type": "code",
   "execution_count": null,
   "metadata": {},
   "outputs": [],
   "source": []
  },
  {
   "cell_type": "code",
   "execution_count": null,
   "metadata": {},
   "outputs": [],
   "source": []
  }
 ],
 "metadata": {
  "kernelspec": {
   "display_name": "Python 3",
   "language": "python",
   "name": "python3"
  },
  "language_info": {
   "codemirror_mode": {
    "name": "ipython",
    "version": 3
   },
   "file_extension": ".py",
   "mimetype": "text/x-python",
   "name": "python",
   "nbconvert_exporter": "python",
   "pygments_lexer": "ipython3",
   "version": "3.7.6"
  }
 },
 "nbformat": 4,
 "nbformat_minor": 4
}
